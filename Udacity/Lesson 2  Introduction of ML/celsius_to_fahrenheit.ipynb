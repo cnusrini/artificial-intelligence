{
  "nbformat": 4,
  "nbformat_minor": 0,
  "metadata": {
    "colab": {
      "name": "celsius_to_fahrenheit.ipynb",
      "provenance": []
    },
    "kernelspec": {
      "name": "python3",
      "display_name": "Python 3"
    }
  },
  "cells": [
    {
      "cell_type": "code",
      "metadata": {
        "id": "RJEUHBfJ6S28",
        "colab_type": "code",
        "colab": {}
      },
      "source": [
        "import tensorflow as tf\n",
        "import numpy as np\n",
        "import matplotlib.pyplot as plt\n",
        "import logging\n"
      ],
      "execution_count": 0,
      "outputs": []
    },
    {
      "cell_type": "markdown",
      "metadata": {
        "id": "7OmVrqoL7ezY",
        "colab_type": "text"
      },
      "source": [
        "Declare logging"
      ]
    },
    {
      "cell_type": "code",
      "metadata": {
        "id": "rIzBncj67FmA",
        "colab_type": "code",
        "colab": {
          "base_uri": "https://localhost:8080/",
          "height": 34
        },
        "outputId": "31d35be1-ba0e-441d-e760-af44656709b5"
      },
      "source": [
        "logger = tf.get_logger()\n",
        "logger.setLevel(logging.ERROR)\n",
        "print(logger)"
      ],
      "execution_count": 6,
      "outputs": [
        {
          "output_type": "stream",
          "text": [
            "<Logger tensorflow (ERROR)>\n"
          ],
          "name": "stdout"
        }
      ]
    },
    {
      "cell_type": "markdown",
      "metadata": {
        "id": "dB-XJpTn7s62",
        "colab_type": "text"
      },
      "source": [
        "Define training data. Training data includes input data and output data."
      ]
    },
    {
      "cell_type": "code",
      "metadata": {
        "id": "JZsuHPwa7y6R",
        "colab_type": "code",
        "colab": {}
      },
      "source": [
        "celsius_is_question = np.array([-40, -10,  0,  8, 15, 22,  38], dtype=float)\n",
        "fahrenheit_is_answer = np.array([-40,  14, 32, 46, 59, 72, 100], dtype=float)"
      ],
      "execution_count": 0,
      "outputs": []
    },
    {
      "cell_type": "code",
      "metadata": {
        "id": "7C6z0JgG-M-S",
        "colab_type": "code",
        "colab": {
          "base_uri": "https://localhost:8080/",
          "height": 34
        },
        "outputId": "01a15fb6-e53f-4616-e4cd-cec84ec380f0"
      },
      "source": [
        "print(celsius_is_question)"
      ],
      "execution_count": 8,
      "outputs": [
        {
          "output_type": "stream",
          "text": [
            "[-40. -10.   0.   8.  15.  22.  38.]\n"
          ],
          "name": "stdout"
        }
      ]
    },
    {
      "cell_type": "markdown",
      "metadata": {
        "id": "otyhofO7_led",
        "colab_type": "text"
      },
      "source": [
        "Build the model which is an algorithem to learns the relationship between Question and Answer"
      ]
    },
    {
      "cell_type": "code",
      "metadata": {
        "id": "MXLZ15pr-lD_",
        "colab_type": "code",
        "colab": {}
      },
      "source": [
        "l0 = tf.keras.layers.Dense(units=1, input_shape=[1])\n",
        "model = tf.keras.Sequential([l0])"
      ],
      "execution_count": 0,
      "outputs": []
    },
    {
      "cell_type": "markdown",
      "metadata": {
        "id": "DiFLbCsuEBKn",
        "colab_type": "text"
      },
      "source": [
        "Compile the model"
      ]
    },
    {
      "cell_type": "code",
      "metadata": {
        "id": "lEbnpehVEDE_",
        "colab_type": "code",
        "colab": {}
      },
      "source": [
        "model.compile(optimizer=tf.keras.optimizers.Adam(0.1), loss='mean_squared_error')"
      ],
      "execution_count": 0,
      "outputs": []
    },
    {
      "cell_type": "markdown",
      "metadata": {
        "id": "Ksyb83LJEV-z",
        "colab_type": "text"
      },
      "source": [
        "Train the model"
      ]
    },
    {
      "cell_type": "code",
      "metadata": {
        "id": "IY91ZKc9EX0D",
        "colab_type": "code",
        "colab": {
          "base_uri": "https://localhost:8080/",
          "height": 34
        },
        "outputId": "8817467c-c662-4fe5-a3bd-133e91cd9c27"
      },
      "source": [
        "history = model.fit(celsius_is_question,fahrenheit_is_answer,epochs=100,verbose=False)\n",
        "print('finished training the model')\n"
      ],
      "execution_count": 28,
      "outputs": [
        {
          "output_type": "stream",
          "text": [
            "finished training the model\n"
          ],
          "name": "stdout"
        }
      ]
    },
    {
      "cell_type": "code",
      "metadata": {
        "id": "5RMx4VgMRyjx",
        "colab_type": "code",
        "colab": {
          "base_uri": "https://localhost:8080/",
          "height": 296
        },
        "outputId": "42c56fc7-2242-450d-ed48-071adc43906e"
      },
      "source": [
        "plt.xlabel('Epoch Number')\n",
        "plt.ylabel(\"Loss Magnitude\")\n",
        "plt.plot(history.history['loss'])"
      ],
      "execution_count": 31,
      "outputs": [
        {
          "output_type": "execute_result",
          "data": {
            "text/plain": [
              "[<matplotlib.lines.Line2D at 0x7f8396b102b0>]"
            ]
          },
          "metadata": {
            "tags": []
          },
          "execution_count": 31
        },
        {
          "output_type": "display_data",
          "data": {
            "image/png": "[encoded data removed]",
            "text/plain": [
              "<Figure size 432x288 with 1 Axes>"
            ]
          },
          "metadata": {
            "tags": []
          }
        }
      ]
    },
    {
      "cell_type": "markdown",
      "metadata": {
        "id": "QJDx5knPScDR",
        "colab_type": "text"
      },
      "source": [
        "Predict the model"
      ]
    },
    {
      "cell_type": "code",
      "metadata": {
        "id": "hH_AM2FhSfG2",
        "colab_type": "code",
        "colab": {
          "base_uri": "https://localhost:8080/",
          "height": 34
        },
        "outputId": "7058e0de-e904-46ec-c1c7-0f26c7f6054c"
      },
      "source": [
        "print(model.predict([100.0]))"
      ],
      "execution_count": 32,
      "outputs": [
        {
          "output_type": "stream",
          "text": [
            "[[211.66129]]\n"
          ],
          "name": "stdout"
        }
      ]
    },
    {
      "cell_type": "markdown",
      "metadata": {
        "id": "gbrT5cy4U5S5",
        "colab_type": "text"
      },
      "source": [
        "Exercise 1:"
      ]
    },
    {
      "cell_type": "code",
      "metadata": {
        "id": "slBEiedUU9l-",
        "colab_type": "code",
        "colab": {
          "base_uri": "https://localhost:8080/",
          "height": 296
        },
        "outputId": "205ac6f5-2501-45c2-e2c7-03400cdaac3f"
      },
      "source": [
        "l0 = tf.keras.layers.Dense(units=4, input_shape=[1])\n",
        "l1 = tf.keras.layers.Dense(units=3)\n",
        "l2 = tf.keras.layers.Dense(units=2)\n",
        "l3 = tf.keras.layers.Dense(units=1)\n",
        "model = tf.keras.Sequential([l0, l1, l2, l3])\n",
        "plt.xlabel('Epoch Number')\n",
        "plt.ylabel(\"Loss Magnitude\")\n",
        "plt.plot(history.history['loss'])\n",
        "model.compile(loss='mean_squared_error', optimizer=tf.keras.optimizers.Adam(0.1))\n",
        "model.fit(celsius_is_question, fahrenheit_is_answer, epochs=500, verbose=False)"
      ],
      "execution_count": 62,
      "outputs": [
        {
          "output_type": "execute_result",
          "data": {
            "text/plain": [
              "<tensorflow.python.keras.callbacks.History at 0x7f8393403c50>"
            ]
          },
          "metadata": {
            "tags": []
          },
          "execution_count": 62
        },
        {
          "output_type": "display_data",
          "data": {
            "image/png": "[encoded data removed]",
            "text/plain": [
              "<Figure size 432x288 with 1 Axes>"
            ]
          },
          "metadata": {
            "tags": []
          }
        }
      ]
    },
    {
      "cell_type": "code",
      "metadata": {
        "id": "txjgE1yEVb-x",
        "colab_type": "code",
        "colab": {
          "base_uri": "https://localhost:8080/",
          "height": 34
        },
        "outputId": "ef9b5a2b-9878-4694-f055-2da655324c56"
      },
      "source": [
        "print(model)"
      ],
      "execution_count": 51,
      "outputs": [
        {
          "output_type": "stream",
          "text": [
            "<tensorflow.python.keras.engine.sequential.Sequential object at 0x7f839680dcc0>\n"
          ],
          "name": "stdout"
        }
      ]
    },
    {
      "cell_type": "markdown",
      "metadata": {
        "id": "_kTtQFk3VsIk",
        "colab_type": "text"
      },
      "source": [
        "Compile model"
      ]
    },
    {
      "cell_type": "code",
      "metadata": {
        "id": "bd0YT1thV7Ag",
        "colab_type": "code",
        "colab": {}
      },
      "source": [
        "model.compile(loss='mean_squared_error', optimizer=tf.keras.optimizers.Adam(0.1))"
      ],
      "execution_count": 0,
      "outputs": []
    },
    {
      "cell_type": "markdown",
      "metadata": {
        "id": "PQbG_1rRV9O7",
        "colab_type": "text"
      },
      "source": [
        "Train the model"
      ]
    },
    {
      "cell_type": "code",
      "metadata": {
        "id": "dewcX6lGXDFT",
        "colab_type": "code",
        "colab": {}
      },
      "source": [
        "model.fit(celsius_is_question, fahrenheit_is_answer, epochs=500, verbose= True)"
      ],
      "execution_count": 0,
      "outputs": []
    }
  ]
}