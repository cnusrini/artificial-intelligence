{
  "nbformat": 4,
  "nbformat_minor": 0,
  "metadata": {
    "colab": {
      "name": "Fashion_mnist_exercise2.ipynb",
      "provenance": []
    },
    "kernelspec": {
      "name": "python3",
      "display_name": "Python 3"
    }
  },
  "cells": [
    {
      "cell_type": "code",
      "metadata": {
        "id": "36zUrDxanrMY",
        "colab_type": "code",
        "colab": {}
      },
      "source": [
        "import tensorflow as tf\n",
        "import numpy as np\n",
        "import matplotlib.pyplot as plt\n",
        "import logging"
      ],
      "execution_count": 0,
      "outputs": []
    },
    {
      "cell_type": "markdown",
      "metadata": {
        "id": "pwm5kpRZn6QM",
        "colab_type": "text"
      },
      "source": [
        "Data Prep stage\n"
      ]
    },
    {
      "cell_type": "code",
      "metadata": {
        "id": "wCgnLcPVn-FY",
        "colab_type": "code",
        "colab": {}
      },
      "source": [
        "minst = tf.keras.datasets.fashion_mnist"
      ],
      "execution_count": 0,
      "outputs": []
    },
    {
      "cell_type": "code",
      "metadata": {
        "id": "78YNDdTLoDFk",
        "colab_type": "code",
        "colab": {}
      },
      "source": [
        "(training_img,training_label),(test_img,test_label) = minst.load_data()\n"
      ],
      "execution_count": 0,
      "outputs": []
    },
    {
      "cell_type": "code",
      "metadata": {
        "id": "z6frijLlo_LK",
        "colab_type": "code",
        "colab": {}
      },
      "source": [
        "#np.set_printoptions(linewidth=300)\n",
        "plt.imshow(training_img[0])\n",
        "print(training_img[0])\n",
        "print(training_label[0])"
      ],
      "execution_count": 0,
      "outputs": []
    },
    {
      "cell_type": "code",
      "metadata": {
        "id": "xhoLv72zqD24",
        "colab_type": "code",
        "colab": {}
      },
      "source": [
        "training_img = training_img/255.0\n",
        "test_img = test_img/255.0"
      ],
      "execution_count": 0,
      "outputs": []
    },
    {
      "cell_type": "code",
      "metadata": {
        "id": "Y_Pya6BfqM_J",
        "colab_type": "code",
        "colab": {}
      },
      "source": [
        "plt.imshow(training_img[0])\n",
        "print(training_img[0])\n",
        "print(training_label[0])"
      ],
      "execution_count": 0,
      "outputs": []
    },
    {
      "cell_type": "markdown",
      "metadata": {
        "id": "weD9koVuqRiK",
        "colab_type": "text"
      },
      "source": [
        "Building model"
      ]
    },
    {
      "cell_type": "code",
      "metadata": {
        "id": "D-iZzzDMqUon",
        "colab_type": "code",
        "colab": {}
      },
      "source": [
        "model = tf.keras.Sequential([tf.keras.layers.Flatten(),\n",
        "                             tf.keras.layers.Dense(units=512,activation=tf.nn.relu),\n",
        "                             tf.keras.layers.Dense(units=10,activation=tf.nn.softmax)\n",
        "                     \n",
        "])"
      ],
      "execution_count": 0,
      "outputs": []
    },
    {
      "cell_type": "code",
      "metadata": {
        "id": "iQT3t-i3rENC",
        "colab_type": "code",
        "colab": {}
      },
      "source": [
        "model.compile(optimizer=tf.optimizers.Adam(),\n",
        "              metrics= ['accuracy'],\n",
        "               loss='sparse_categorical_crossentropy'\n",
        "               \n",
        "               )"
      ],
      "execution_count": 0,
      "outputs": []
    },
    {
      "cell_type": "code",
      "metadata": {
        "id": "yjQ_nvTEr6a8",
        "colab_type": "code",
        "colab": {}
      },
      "source": [
        "model.fit(training_img,training_label,epochs=5,verbose=True)"
      ],
      "execution_count": 0,
      "outputs": []
    },
    {
      "cell_type": "code",
      "metadata": {
        "id": "gpThDiAls7vF",
        "colab_type": "code",
        "colab": {
          "base_uri": "https://localhost:8080/",
          "height": 50
        },
        "outputId": "3ef5e49b-bac5-475f-ba1f-dccc7f809aaf"
      },
      "source": [
        "model.evaluate(test_img,test_label)"
      ],
      "execution_count": 41,
      "outputs": [
        {
          "output_type": "stream",
          "text": [
            "313/313 [==============================] - 1s 3ms/step - loss: 0.4104 - accuracy: 0.8533\n"
          ],
          "name": "stdout"
        },
        {
          "output_type": "execute_result",
          "data": {
            "text/plain": [
              "[0.4103548526763916, 0.8532999753952026]"
            ]
          },
          "metadata": {
            "tags": []
          },
          "execution_count": 41
        }
      ]
    },
    {
      "cell_type": "code",
      "metadata": {
        "id": "mZadhPzftDbw",
        "colab_type": "code",
        "colab": {}
      },
      "source": [
        "classification = model.predict(test_img)"
      ],
      "execution_count": 0,
      "outputs": []
    },
    {
      "cell_type": "code",
      "metadata": {
        "id": "opkG787ctM-h",
        "colab_type": "code",
        "colab": {
          "base_uri": "https://localhost:8080/",
          "height": 34
        },
        "outputId": "9ff3ad8e-8f09-49c7-c89f-8c8d2db4ebdf"
      },
      "source": [
        "print(classification[0])"
      ],
      "execution_count": 40,
      "outputs": [
        {
          "output_type": "stream",
          "text": [
            "[4.1791517e-07 1.3033031e-08 7.6244364e-06 3.1400605e-06 1.2551680e-05 1.5695947e-01 1.3449817e-05 1.5734586e-01 4.9370346e-03 6.8072045e-01]\n"
          ],
          "name": "stdout"
        }
      ]
    }
  ]
}