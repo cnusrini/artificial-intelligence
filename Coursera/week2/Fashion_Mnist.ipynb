{
  "nbformat": 4,
  "nbformat_minor": 0,
  "metadata": {
    "colab": {
      "name": "Fashion_Mnist.ipynb",
      "provenance": []
    },
    "kernelspec": {
      "name": "python3",
      "display_name": "Python 3"
    }
  },
  "cells": [
    {
      "cell_type": "code",
      "metadata": {
        "id": "gjm1YLwBnaqR",
        "colab_type": "code",
        "colab": {}
      },
      "source": [
        "import tensorflow as tf\n",
        "import numpy as np\n",
        "import matplotlib.pyplot as plt\n",
        "import logging"
      ],
      "execution_count": 0,
      "outputs": []
    },
    {
      "cell_type": "code",
      "metadata": {
        "id": "CSws8w9Cn5Ng",
        "colab_type": "code",
        "colab": {}
      },
      "source": [
        "minst = tf.keras.datasets.fashion_mnist"
      ],
      "execution_count": 0,
      "outputs": []
    },
    {
      "cell_type": "code",
      "metadata": {
        "id": "_Gjp-ig1oYoH",
        "colab_type": "code",
        "colab": {}
      },
      "source": [
        "(training_img,training_label),(test_img,test_label) =  minst.load_data()"
      ],
      "execution_count": 0,
      "outputs": []
    },
    {
      "cell_type": "code",
      "metadata": {
        "id": "kEwV9g5GouKR",
        "colab_type": "code",
        "colab": {}
      },
      "source": [
        "np.set_printoptions(linewidth=200)\n",
        "plt.imshow(training_img[255])\n",
        "print(training_label[0])\n",
        "print(training_img[0])"
      ],
      "execution_count": 0,
      "outputs": []
    },
    {
      "cell_type": "code",
      "metadata": {
        "id": "iQdab9v2prMZ",
        "colab_type": "code",
        "colab": {}
      },
      "source": [
        "training_img = training_img/255.0\n",
        "test_img = test_img/255.0"
      ],
      "execution_count": 0,
      "outputs": []
    },
    {
      "cell_type": "code",
      "metadata": {
        "id": "11iNmouzp2YF",
        "colab_type": "code",
        "colab": {}
      },
      "source": [
        "np.set_printoptions(linewidth=200)\n",
        "plt.imshow(training_img[0])\n",
        "print(training_label[0])\n",
        "print(training_img[0])"
      ],
      "execution_count": 0,
      "outputs": []
    },
    {
      "cell_type": "code",
      "metadata": {
        "id": "EsdFSaikqFh6",
        "colab_type": "code",
        "colab": {}
      },
      "source": [
        "model = tf.keras.models.Sequential([tf.keras.layers.Flatten(),\n",
        "                            tf.keras.layers.Dense(128,activation=tf.nn.relu),\n",
        "                            tf.keras.layers.Dense(10,activation=tf.nn.softmax)])"
      ],
      "execution_count": 0,
      "outputs": []
    },
    {
      "cell_type": "code",
      "metadata": {
        "id": "3Cl3d3ADq_lJ",
        "colab_type": "code",
        "colab": {}
      },
      "source": [
        "model.compile(optimizer=tf.optimizers.Adam(),\n",
        "              loss='sparse_categorical_crossentropy',\n",
        "              metrics=['accuracy'])"
      ],
      "execution_count": 0,
      "outputs": []
    },
    {
      "cell_type": "code",
      "metadata": {
        "id": "WP-SjT8BrjQ5",
        "colab_type": "code",
        "colab": {
          "base_uri": "https://localhost:8080/",
          "height": 34
        },
        "outputId": "c216f744-5780-43cb-ddfe-f74270642442"
      },
      "source": [
        "model.fit(training_img,training_label,epochs=5,verbose=False)"
      ],
      "execution_count": 26,
      "outputs": [
        {
          "output_type": "execute_result",
          "data": {
            "text/plain": [
              "<tensorflow.python.keras.callbacks.History at 0x7f3589608eb8>"
            ]
          },
          "metadata": {
            "tags": []
          },
          "execution_count": 26
        }
      ]
    },
    {
      "cell_type": "code",
      "metadata": {
        "id": "K5UD2V_ex2gz",
        "colab_type": "code",
        "colab": {
          "base_uri": "https://localhost:8080/",
          "height": 50
        },
        "outputId": "e633a73f-e3a2-49f5-fe42-ffc0badc2582"
      },
      "source": [
        "model.evaluate(test_img,test_label)"
      ],
      "execution_count": 27,
      "outputs": [
        {
          "output_type": "stream",
          "text": [
            "313/313 [==============================] - 0s 1ms/step - loss: 0.4665 - accuracy: 0.8868\n"
          ],
          "name": "stdout"
        },
        {
          "output_type": "execute_result",
          "data": {
            "text/plain": [
              "[0.46651408076286316, 0.8867999911308289]"
            ]
          },
          "metadata": {
            "tags": []
          },
          "execution_count": 27
        }
      ]
    },
    {
      "cell_type": "code",
      "metadata": {
        "id": "d9o1Ct_WyUkc",
        "colab_type": "code",
        "colab": {}
      },
      "source": [
        "classification = model.predict(test_img)"
      ],
      "execution_count": 0,
      "outputs": []
    },
    {
      "cell_type": "code",
      "metadata": {
        "id": "OTFDeDKfybgi",
        "colab_type": "code",
        "colab": {
          "base_uri": "https://localhost:8080/",
          "height": 50
        },
        "outputId": "f9fe2bfc-1abe-4cf0-bf32-456899c1fbff"
      },
      "source": [
        "print(classification[0])\n",
        "print(test_label[0])"
      ],
      "execution_count": 30,
      "outputs": [
        {
          "output_type": "stream",
          "text": [
            "[3.1808580e-15 1.1079312e-14 4.6236470e-19 4.1500624e-22 3.6046106e-19 1.8337958e-09 4.4332632e-16 7.0349593e-06 9.8588816e-15 9.9999297e-01]\n",
            "9\n"
          ],
          "name": "stdout"
        }
      ]
    }
  ]
}