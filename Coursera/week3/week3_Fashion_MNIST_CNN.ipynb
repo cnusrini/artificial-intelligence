{
  "nbformat": 4,
  "nbformat_minor": 0,
  "metadata": {
    "colab": {
      "name": "Course 1 - Part 6 - Lesson 2 - Notebook.ipynb",
      "provenance": []
    },
    "kernelspec": {
      "name": "python3",
      "display_name": "Python 3"
    }
  },
  "cells": [
    {
      "cell_type": "code",
      "metadata": {
        "id": "KBWTcS7Ak3ye",
        "colab_type": "code",
        "colab": {}
      },
      "source": [
        "import tensorflow as tf\n",
        "import numpy as np\n",
        "import matplotlib.pyplot as plt\n",
        "import logging"
      ],
      "execution_count": 0,
      "outputs": []
    },
    {
      "cell_type": "code",
      "metadata": {
        "id": "pI40zc1ul7HU",
        "colab_type": "code",
        "colab": {}
      },
      "source": [
        "minst = tf.keras.datasets.fashion_mnist"
      ],
      "execution_count": 0,
      "outputs": []
    },
    {
      "cell_type": "code",
      "metadata": {
        "id": "KMjQ_ML7l_vk",
        "colab_type": "code",
        "colab": {}
      },
      "source": [
        "(train_img,train_label),(test_img,test_label) = minst.load_data()"
      ],
      "execution_count": 0,
      "outputs": []
    },
    {
      "cell_type": "code",
      "metadata": {
        "id": "AAyqvncAmgua",
        "colab_type": "code",
        "colab": {}
      },
      "source": [
        "train_img = train_img.reshape(60000, 28, 28, 1)\n",
        "train_img = train_img/255.0\n",
        "test_img = test_img.reshape(10000, 28, 28, 1)\n",
        "test_img = test_img/255.0\n",
        "\n",
        "\n"
      ],
      "execution_count": 0,
      "outputs": []
    },
    {
      "cell_type": "code",
      "metadata": {
        "id": "lT2pjBrKm9My",
        "colab_type": "code",
        "colab": {}
      },
      "source": [
        "model = tf.keras.models.Sequential([\n",
        "        tf.keras.layers.Flatten(),\n",
        "        tf.keras.layers.Dense(units=128,activation=tf.nn.relu),\n",
        "        tf.keras.layers.Dense(units=10,activation=tf.nn.softmax)                    \n",
        "])"
      ],
      "execution_count": 0,
      "outputs": []
    },
    {
      "cell_type": "code",
      "metadata": {
        "id": "uhICQtVZn1Vv",
        "colab_type": "code",
        "colab": {}
      },
      "source": [
        "model.compile(optimizer='adam',loss='sparse_categorical_crossentropy',metrics=['accuracy'])"
      ],
      "execution_count": 0,
      "outputs": []
    },
    {
      "cell_type": "code",
      "metadata": {
        "id": "wKIII_u3od9e",
        "colab_type": "code",
        "colab": {}
      },
      "source": [
        "model.fit(train_img,train_label,epochs=5,verbose=True)"
      ],
      "execution_count": 0,
      "outputs": []
    },
    {
      "cell_type": "code",
      "metadata": {
        "id": "2J-UV2popPef",
        "colab_type": "code",
        "outputId": "258c0417-d36d-4f70-c231-0ce773336610",
        "colab": {
          "base_uri": "https://localhost:8080/",
          "height": 50
        }
      },
      "source": [
        "model.evaluate(test_img,test_label)"
      ],
      "execution_count": 0,
      "outputs": [
        {
          "output_type": "stream",
          "text": [
            "313/313 [==============================] - 0s 1ms/step - loss: 1518.2682 - accuracy: 0.1000\n"
          ],
          "name": "stdout"
        },
        {
          "output_type": "execute_result",
          "data": {
            "text/plain": [
              "[1518.2681884765625, 0.10000000149011612]"
            ]
          },
          "metadata": {
            "tags": []
          },
          "execution_count": 10
        }
      ]
    },
    {
      "cell_type": "code",
      "metadata": {
        "id": "MrNS2GyGp0wo",
        "colab_type": "code",
        "colab": {}
      },
      "source": [
        "model.summary()"
      ],
      "execution_count": 0,
      "outputs": []
    },
    {
      "cell_type": "code",
      "metadata": {
        "id": "V4Cvji2Jqixu",
        "colab_type": "code",
        "colab": {}
      },
      "source": [
        "CNNmodel = tf.keras.models.Sequential([\n",
        "                                       tf.keras.layers.Conv2D(filters=64,kernel_size=(3,3),activation=tf.nn.relu,input_shape=(28,28,1)),\n",
        "                                       tf.keras.layers.MaxPool2D(pool_size=(2,2)),\n",
        "                                       tf.keras.layers.Conv2D(filters=64,kernel_size=(3,3), activation=tf.nn.relu),\n",
        "                                       tf.keras.layers.MaxPool2D(pool_size=(2,2)),\n",
        "                                       tf.keras.layers.Flatten(),\n",
        "                                       tf.keras.layers.Dense(units=128,activation=tf.nn.relu),\n",
        "                                       tf.keras.layers.Dense(10,activation=tf.nn.softmax)\n",
        "                            \n",
        "])"
      ],
      "execution_count": 0,
      "outputs": []
    },
    {
      "cell_type": "code",
      "metadata": {
        "id": "9_j6YYjftoJD",
        "colab_type": "code",
        "colab": {}
      },
      "source": [
        "CNNmodel.summary()"
      ],
      "execution_count": 0,
      "outputs": []
    },
    {
      "cell_type": "code",
      "metadata": {
        "id": "a-QQ9MtUuPbV",
        "colab_type": "code",
        "colab": {}
      },
      "source": [
        "#model1.compile(optimizer='adam',loss='sparse_categorical_crossentropy',metrics=['accuracy'])\n",
        "CNNmodel.compile(optimizer='adam',loss='sparse_categorical_crossentropy',metrics=['accuracy'])\n"
      ],
      "execution_count": 0,
      "outputs": []
    },
    {
      "cell_type": "code",
      "metadata": {
        "id": "gOBssv3auiJX",
        "colab_type": "code",
        "colab": {}
      },
      "source": [
        "#CNNmodel.fit(train_img,train_label,epochs=5,verbose=True)\n",
        "CNNmodel.fit(train_img,train_label,epochs=5,verbose=True)"
      ],
      "execution_count": 0,
      "outputs": []
    },
    {
      "cell_type": "code",
      "metadata": {
        "id": "J1LxWvDZqY6g",
        "colab_type": "code",
        "colab": {
          "base_uri": "https://localhost:8080/",
          "height": 84
        },
        "outputId": "e83e2e1c-0e50-4c51-aa59-8c154d11d395"
      },
      "source": [
        "lossfactor_CNNmodel = CNNmodel.evaluate(test_img,test_label)\n",
        "print('calculates loss factor with CNN ',lossfactor_CNNmodel)\n",
        "lossfactor_NNmodel = model.evaluate(test_img,test_label)\n",
        "print('calculates loss factor without CNN ',lossfactor_NNmodel)"
      ],
      "execution_count": 15,
      "outputs": [
        {
          "output_type": "stream",
          "text": [
            "313/313 [==============================] - 4s 13ms/step - loss: 0.2591 - accuracy: 0.9082\n",
            "calculates loss factor with CNN  [0.25908520817756653, 0.9082000255584717]\n",
            "313/313 [==============================] - 4s 14ms/step - loss: 0.4077 - accuracy: 0.8528\n",
            "calculates loss factor without CNN  [0.40765807032585144, 0.8528000116348267]\n"
          ],
          "name": "stdout"
        }
      ]
    }
  ]
}