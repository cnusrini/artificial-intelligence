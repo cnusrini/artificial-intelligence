{
  "nbformat": 4,
  "nbformat_minor": 0,
  "metadata": {
    "colab": {
      "name": "week3_exercise2.ipynb",
      "provenance": []
    },
    "kernelspec": {
      "name": "python3",
      "display_name": "Python 3"
    },
    "accelerator": "GPU"
  },
  "cells": [
    {
      "cell_type": "markdown",
      "metadata": {
        "id": "BLkSLjKq0cYv",
        "colab_type": "text"
      },
      "source": [
        "This exercise attemts to analyse the behaviour of the acuracy and the training time by changing the number of  CNNs to the model."
      ]
    },
    {
      "cell_type": "code",
      "metadata": {
        "id": "v3ambwAq0bXv",
        "colab_type": "code",
        "colab": {}
      },
      "source": [
        "import tensorflow as tf\n",
        "import numpy as np"
      ],
      "execution_count": 0,
      "outputs": []
    },
    {
      "cell_type": "code",
      "metadata": {
        "id": "LGbrSqX402Pn",
        "colab_type": "code",
        "colab": {}
      },
      "source": [
        "minst = tf.keras.datasets.fashion_mnist\n",
        "(train_img,train_label),(test_img,test_label) = minst.load_data()"
      ],
      "execution_count": 0,
      "outputs": []
    },
    {
      "cell_type": "code",
      "metadata": {
        "id": "rbZMLDyi071h",
        "colab_type": "code",
        "colab": {}
      },
      "source": [
        "train_img = train_img.reshape(60000,28,28,1)\n",
        "train_img = train_img/255.0\n",
        "test_img = test_img.reshape(10000,28,28,1)\n",
        "test_img = test_img/255.0"
      ],
      "execution_count": 0,
      "outputs": []
    },
    {
      "cell_type": "code",
      "metadata": {
        "id": "1qv3sl_C1A-N",
        "colab_type": "code",
        "colab": {
          "base_uri": "https://localhost:8080/",
          "height": 50
        },
        "outputId": "54d80428-5c88-4830-9403-1a52ffd03c20"
      },
      "source": [
        "print('CNN model with 1 conv and 16 units')\n",
        "CNNMOdelwith1Conv = tf.keras.models.Sequential([\n",
        "                                       tf.keras.layers.Conv2D(16,kernel_size=(3,3),activation=tf.nn.relu,input_shape= (28,28,1)),\n",
        "                                       tf.keras.layers.MaxPool2D(pool_size=(2,2)),                                       \n",
        "                                       tf.keras.layers.Flatten(),\n",
        "                                       tf.keras.layers.Dense(units=128,activation=tf.nn.relu),\n",
        "                                       tf.keras.layers.Dense(units=10,activation=tf.nn.softmax)\n",
        "                                       \n",
        "])\n",
        "\n",
        "print('CNN model with 3 conv and 16 units')\n",
        "CNNMOdelwith3Conv = tf.keras.models.Sequential([\n",
        "                                       tf.keras.layers.Conv2D(16,kernel_size=(3,3),activation=tf.nn.relu,input_shape= (28,28,1)),\n",
        "                                       tf.keras.layers.MaxPool2D(pool_size=(2,2)),\n",
        "                                       tf.keras.layers.Conv2D(filters=16,kernel_size=(3,3),activation=tf.nn.relu),\n",
        "                                       tf.keras.layers.MaxPool2D(pool_size=(2,2)),\n",
        "                                       tf.keras.layers.Conv2D(filters=16,kernel_size=(3,3),activation=tf.nn.relu),\n",
        "                                       tf.keras.layers.MaxPool2D(pool_size=(2,2)),\n",
        "                                       tf.keras.layers.Flatten(),\n",
        "                                       tf.keras.layers.Dense(units=128,activation=tf.nn.relu),\n",
        "                                       tf.keras.layers.Dense(units=10,activation=tf.nn.softmax)\n",
        "                                       \n",
        "])"
      ],
      "execution_count": 13,
      "outputs": [
        {
          "output_type": "stream",
          "text": [
            "CNN model with 1 conv and 16 units\n",
            "CNN model with 3 conv and 16 units\n"
          ],
          "name": "stdout"
        }
      ]
    },
    {
      "cell_type": "code",
      "metadata": {
        "id": "-aB4S4K91uX1",
        "colab_type": "code",
        "colab": {}
      },
      "source": [
        "CNNMOdelwith1Conv.compile(optimizer='adam',loss='sparse_categorical_crossentropy',metrics=['accuracy'])\n",
        "CNNMOdelwith3Conv.compile(optimizer='adam',loss='sparse_categorical_crossentropy',metrics=['accuracy'])"
      ],
      "execution_count": 0,
      "outputs": []
    },
    {
      "cell_type": "code",
      "metadata": {
        "id": "8JfPQWsw2HKe",
        "colab_type": "code",
        "colab": {}
      },
      "source": [
        "CNNMOdelwith1Conv.fit(train_img,train_label,epochs=5,verbose=True)\n",
        "CNNMOdelwith3Conv.fit(train_img,train_label,epochs=5,verbose=True)"
      ],
      "execution_count": 0,
      "outputs": []
    },
    {
      "cell_type": "code",
      "metadata": {
        "id": "3gO5pGqE4MdJ",
        "colab_type": "code",
        "colab": {
          "base_uri": "https://localhost:8080/",
          "height": 84
        },
        "outputId": "a4506a39-782a-4a88-cc49-8114f64809fb"
      },
      "source": [
        "test_loss, test_acc = CNNMOdelwith1Conv.evaluate(test_img,test_label)\n",
        "test_loss1, test_acc1 = CNNMOdelwith3Conv.evaluate(test_img,test_label)\n",
        "\n",
        "print('test_acc',test_acc)\n",
        "print('test_acc1',test_acc1)"
      ],
      "execution_count": 20,
      "outputs": [
        {
          "output_type": "stream",
          "text": [
            "313/313 [==============================] - 1s 3ms/step - loss: 0.2558 - accuracy: 0.9060\n",
            "313/313 [==============================] - 1s 3ms/step - loss: 0.3571 - accuracy: 0.8705\n",
            "test_acc 0.906000018119812\n",
            "test_acc1 0.8705000281333923\n"
          ],
          "name": "stdout"
        }
      ]
    }
  ]
}