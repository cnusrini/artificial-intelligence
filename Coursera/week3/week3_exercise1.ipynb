{
  "nbformat": 4,
  "nbformat_minor": 0,
  "metadata": {
    "colab": {
      "name": "week3_exercise1.ipynb",
      "provenance": []
    },
    "kernelspec": {
      "name": "python3",
      "display_name": "Python 3"
    },
    "accelerator": "GPU"
  },
  "cells": [
    {
      "cell_type": "markdown",
      "metadata": {
        "id": "m4qNxbRvs0RP",
        "colab_type": "text"
      },
      "source": [
        "This exercise attemts to analyse the behaviour of the acuracy and the training time if the CNN is changed to 16 and then to 32.\n",
        "\n",
        "> Indented block\n",
        "\n"
      ]
    },
    {
      "cell_type": "code",
      "metadata": {
        "id": "q1VTRNAuslgE",
        "colab_type": "code",
        "colab": {}
      },
      "source": [
        "import tensorflow as tf\n",
        "import numpy as np"
      ],
      "execution_count": 0,
      "outputs": []
    },
    {
      "cell_type": "code",
      "metadata": {
        "id": "S2yWacZ-tpWW",
        "colab_type": "code",
        "colab": {
          "base_uri": "https://localhost:8080/",
          "height": 151
        },
        "outputId": "38a726e1-1dc4-4785-edae-a34550085c7b"
      },
      "source": [
        "minst = tf.keras.datasets.fashion_mnist\n",
        "(train_img,train_label),(test_img,test_label) = minst.load_data()"
      ],
      "execution_count": 3,
      "outputs": [
        {
          "output_type": "stream",
          "text": [
            "Downloading data from https://storage.googleapis.com/tensorflow/tf-keras-datasets/train-labels-idx1-ubyte.gz\n",
            "32768/29515 [=================================] - 0s 0us/step\n",
            "Downloading data from https://storage.googleapis.com/tensorflow/tf-keras-datasets/train-images-idx3-ubyte.gz\n",
            "26427392/26421880 [==============================] - 0s 0us/step\n",
            "Downloading data from https://storage.googleapis.com/tensorflow/tf-keras-datasets/t10k-labels-idx1-ubyte.gz\n",
            "8192/5148 [===============================================] - 0s 0us/step\n",
            "Downloading data from https://storage.googleapis.com/tensorflow/tf-keras-datasets/t10k-images-idx3-ubyte.gz\n",
            "4423680/4422102 [==============================] - 0s 0us/step\n"
          ],
          "name": "stdout"
        }
      ]
    },
    {
      "cell_type": "code",
      "metadata": {
        "id": "zbc-w7TbttiQ",
        "colab_type": "code",
        "colab": {}
      },
      "source": [
        "train_img = train_img.reshape(60000,28,28,1)\n",
        "train_img = train_img/255.0\n",
        "test_img = test_img.reshape(10000,28,28,1)\n",
        "test_img = test_img/255.0"
      ],
      "execution_count": 0,
      "outputs": []
    },
    {
      "cell_type": "code",
      "metadata": {
        "id": "QCSDSW_cuMbt",
        "colab_type": "code",
        "colab": {}
      },
      "source": [
        "CNNMOdelwith16 = tf.keras.models.Sequential([\n",
        "                                       tf.keras.layers.Conv2D(16,kernel_size=(3,3),activation=tf.nn.relu,input_shape= (28,28,1)),\n",
        "                                       tf.keras.layers.MaxPool2D(pool_size=(2,2)),\n",
        "                                       tf.keras.layers.Conv2D(filters=16,kernel_size=(3,3),activation=tf.nn.relu),\n",
        "                                       tf.keras.layers.MaxPool2D(pool_size=(2,2)),\n",
        "                                       tf.keras.layers.Flatten(),\n",
        "                                       tf.keras.layers.Dense(units=128,activation=tf.nn.relu),\n",
        "                                       tf.keras.layers.Dense(units=10,activation=tf.nn.softmax)\n",
        "                                       \n",
        "])\n",
        "\n",
        "CNNMOdelwith32 = tf.keras.models.Sequential([\n",
        "                                       tf.keras.layers.Conv2D(32,kernel_size=(3,3),activation=tf.nn.relu,input_shape= (28,28,1)),\n",
        "                                       tf.keras.layers.MaxPool2D(pool_size=(2,2)),\n",
        "                                       tf.keras.layers.Conv2D(filters=32,kernel_size=(3,3),activation=tf.nn.relu),\n",
        "                                       tf.keras.layers.MaxPool2D(pool_size=(2,2)),\n",
        "                                       tf.keras.layers.Flatten(),\n",
        "                                       tf.keras.layers.Dense(units=128,activation=tf.nn.relu),\n",
        "                                       tf.keras.layers.Dense(units=10,activation=tf.nn.softmax)\n",
        "                                       \n",
        "])"
      ],
      "execution_count": 0,
      "outputs": []
    },
    {
      "cell_type": "code",
      "metadata": {
        "id": "zITuUr3OwnoE",
        "colab_type": "code",
        "colab": {}
      },
      "source": [
        "CNNMOdelwith16.compile(optimizer='adam',loss='sparse_categorical_crossentropy',metrics=['accuracy'])\n",
        "CNNMOdelwith32.compile(optimizer='adam',loss='sparse_categorical_crossentropy',metrics=['accuracy'])"
      ],
      "execution_count": 0,
      "outputs": []
    },
    {
      "cell_type": "code",
      "metadata": {
        "id": "4Y_puUCRwUBM",
        "colab_type": "code",
        "colab": {}
      },
      "source": [
        "CNNMOdelwith16.fit(train_img,train_label,epochs=5,verbose=True)\n",
        "CNNMOdelwith32.fit(train_img,train_label,epochs=5,verbose=True)"
      ],
      "execution_count": 0,
      "outputs": []
    },
    {
      "cell_type": "code",
      "metadata": {
        "id": "ayTMhdhuzYNx",
        "colab_type": "code",
        "colab": {
          "base_uri": "https://localhost:8080/",
          "height": 84
        },
        "outputId": "9387fcaa-3f81-4857-b9a1-cbf4cea90b8a"
      },
      "source": [
        "print('loss factor for lossfactor_CNNMOdelwith16:')\n",
        "lossfactor_CNNMOdelwith16 = CNNMOdelwith16.evaluate(test_img,test_label)\n",
        "print('loss factor for lossfactor_CNNMOdelwith32:')\n",
        "lossfactor_CNNMOdelwith32 = CNNMOdelwith32.evaluate(test_img,test_label)"
      ],
      "execution_count": 10,
      "outputs": [
        {
          "output_type": "stream",
          "text": [
            "loss factor for lossfactor_CNNMOdelwith16:\n",
            "313/313 [==============================] - 1s 2ms/step - loss: 0.2638 - accuracy: 0.9086\n",
            "loss factor for lossfactor_CNNMOdelwith32:\n",
            "313/313 [==============================] - 1s 2ms/step - loss: 0.2806 - accuracy: 0.9113\n"
          ],
          "name": "stdout"
        }
      ]
    }
  ]
}